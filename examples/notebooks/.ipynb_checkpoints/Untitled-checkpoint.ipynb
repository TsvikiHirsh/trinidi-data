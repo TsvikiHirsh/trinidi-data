{
 "cells": [
  {
   "cell_type": "code",
   "execution_count": null,
   "id": "c8576e4c",
   "metadata": {},
   "outputs": [],
   "source": [
    "printe(\"Hello World!\")"
   ]
  }
 ],
 "metadata": {
  "kernelspec": {
   "display_name": "Python 3 (ipykernel)",
   "language": "python",
   "name": "python3"
  }
 },
 "nbformat": 4,
 "nbformat_minor": 5
}

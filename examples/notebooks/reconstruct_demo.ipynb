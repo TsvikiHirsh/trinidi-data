{
 "cells": [
  {
   "cell_type": "code",
   "execution_count": null,
   "id": "fd3a6fba",
   "metadata": {
    "collapsed": false
   },
   "outputs": [],
   "source": [
    "#!/usr/bin/env python"
   ]
  },
  {
   "cell_type": "markdown",
   "id": "00693f19",
   "metadata": {},
   "source": [
    "Demo: trinidi.reconstruct Module\n",
    "==================================\n",
    "\n",
    "This script illustrates the functionality of the `trinidi.reconstruct` submodule."
   ]
  },
  {
   "cell_type": "code",
   "execution_count": null,
   "id": "83fdc105",
   "metadata": {
    "collapsed": false
   },
   "outputs": [],
   "source": [
    "import numpy as np\n",
    "\n",
    "import matplotlib.pyplot as plt\n",
    "\n",
    "from trinidi import cross_section, reconstruct, resolution, simulate, util"
   ]
  },
  {
   "cell_type": "markdown",
   "id": "e1a514a0",
   "metadata": {},
   "source": [
    "Generation of Simulated data\n",
    "----------------------------\n",
    "To generate the simulated data we use `trinidi`'s `generate_sample_data` function that generates\n",
    "a phantom of overlapping discs of different isotopes and the associated measurement counts.\n",
    "\n",
    "Below we define what isotopes to use for the phantom and what their corresponding densities, `z`\n",
    "should become. The `projection_shape` is 2D and is the the size of the detector, but in general it\n",
    "can be of any dimensionality."
   ]
  },
  {
   "cell_type": "code",
   "execution_count": null,
   "id": "54b2eaf0",
   "metadata": {
    "collapsed": false
   },
   "outputs": [],
   "source": [
    "isotopes = [\"U-238\", \"Pu-239\", \"Ta-181\"]\n",
    "z = np.array([[0.005, 0.003, 0.004]]).T\n",
    "\n",
    "\n",
    "# projection_shape = (16, 16) # use this for fast execution\n",
    "projection_shape = (64, 64)  # use this for the docs\n",
    "\n",
    "(\n",
    "    Y_o,\n",
    "    Y_s,\n",
    "    ground_truth_params,\n",
    "    Z,\n",
    "    t_A,\n",
    "    flight_path_length,\n",
    "    N_b,\n",
    "    kernels,\n",
    ") = simulate.generate_sample_data(\n",
    "    isotopes, z, acquisition_time=10, projection_shape=projection_shape\n",
    ")"
   ]
  },
  {
   "cell_type": "markdown",
   "id": "28b28d6a",
   "metadata": {},
   "source": [
    "The arrays `Y_o` and `Y_s` contain the the open beam and sample neutron count measurements. The\n",
    "first (two) axes correspond to `projection_shape`, which in most cases is equal to the detector\n",
    "shape. The last axis correponds to the time-of-arrival (TOA) dimension which has `N_A` bins."
   ]
  },
  {
   "cell_type": "code",
   "execution_count": null,
   "id": "47d88dcc",
   "metadata": {
    "collapsed": false
   },
   "outputs": [],
   "source": [
    "N_A = Y_o.shape[-1]\n",
    "\n",
    "print(f\"{Y_o.shape = }     (Open beam measurement)\")\n",
    "print(f\"{Y_s.shape = }     (Sample measurement)\")\n",
    "print(f\"{projection_shape = }     (Shape of the detector)\")\n",
    "print(f\"{N_A = }     (Number of TOA bins)\")"
   ]
  },
  {
   "cell_type": "markdown",
   "id": "93e8dcd3",
   "metadata": {},
   "source": [
    "The corresponding array of TOAs (`t_A`) is in units of [μs] and has `N_A` elements."
   ]
  },
  {
   "cell_type": "code",
   "execution_count": null,
   "id": "15bc764e",
   "metadata": {
    "collapsed": false
   },
   "outputs": [],
   "source": [
    "print(f\"t_A = [{t_A[0]:.2f}, {t_A[1]:.2f}, ..., {t_A[-2]:.2f}, {t_A[-1]:.2f}] [μs]\")\n",
    "print(f\"{t_A.shape = }     (Same as N_A)\")"
   ]
  },
  {
   "cell_type": "markdown",
   "id": "dc257e63",
   "metadata": {},
   "source": [
    "The `flight_path_length` has units of [m] and relates the neutron times with the neutron energies.\n",
    "Below we illustrate the conversion from time to energy."
   ]
  },
  {
   "cell_type": "code",
   "execution_count": null,
   "id": "bf19d034",
   "metadata": {
    "collapsed": false
   },
   "outputs": [],
   "source": [
    "print(f\"{flight_path_length = } [m]\")\n",
    "E = util.time2energy(t_A, flight_path_length)\n",
    "print(f\"E = [{E[0]:.2f}, {E[1]:.2f}, ..., {E[-2]:.2f}, {E[-1]:.2f}] [eV]\")"
   ]
  },
  {
   "cell_type": "markdown",
   "id": "bc50dc13",
   "metadata": {},
   "source": [
    "The ground truth areal densities `Z` are used in order to later compare to our estimates. `Z` has\n",
    "the same `projection_shape` as the measurements. The last axis of `Z` is the number of isotopes,\n",
    "`N_m`."
   ]
  },
  {
   "cell_type": "code",
   "execution_count": null,
   "id": "0ffc1d48",
   "metadata": {
    "collapsed": false
   },
   "outputs": [],
   "source": [
    "N_m = Z.shape[-1]\n",
    "\n",
    "print(f\"{Z.shape = }     (Ground truth areal densities)\")\n",
    "print(f\"{N_m = }     (Number of isotopes)\")\n",
    "print(f\"{len(isotopes) = }     (Also number of isotopes))\")"
   ]
  },
  {
   "cell_type": "markdown",
   "id": "9b097a61",
   "metadata": {},
   "source": [
    "We can show the areal densities `Z` using the plotting function below."
   ]
  },
  {
   "cell_type": "code",
   "execution_count": null,
   "id": "b93a267f",
   "metadata": {
    "collapsed": false
   },
   "outputs": [],
   "source": [
    "def plot_densities(Z, isotopes, vmaxs=None):\n",
    "    r\"\"\"Show areal densities. `ax` must be list.\"\"\"\n",
    "\n",
    "    fig, ax = plt.subplots(1, len(isotopes), figsize=[12, 3.3])\n",
    "    ax = np.atleast_1d(ax)\n",
    "\n",
    "    for i, isotope in enumerate(isotopes):\n",
    "        z = Z[:, :, i]\n",
    "        if vmaxs is None:\n",
    "            vmax = np.percentile(z, 99.9)\n",
    "        else:\n",
    "            vmax = vmaxs[i]\n",
    "        vmin = 0\n",
    "        im = ax[i].imshow(z, vmin=vmin, vmax=vmax)\n",
    "        fig.colorbar(im, ax=ax[i], format=\"%.1e\")\n",
    "        ax[i].set_title(f\"{isotope}\")\n",
    "        ax[i].axis(\"off\")\n",
    "\n",
    "    fig.suptitle(\"Areal Densities [mol/cm²]\")\n",
    "\n",
    "    return fig, ax\n",
    "\n",
    "\n",
    "plot_densities(Z, isotopes, vmaxs=z * 1.5)\n",
    "plt.show()"
   ]
  },
  {
   "cell_type": "markdown",
   "id": "6242a52b",
   "metadata": {},
   "source": [
    "As shown above, the phantom consists of several discs and the `i`th disc corresponds to\n",
    "`isotopes[i]` which has density `z[i]`, so it is equal to `Z[:,:,i].max()`."
   ]
  },
  {
   "cell_type": "code",
   "execution_count": null,
   "id": "16029663",
   "metadata": {
    "collapsed": false
   },
   "outputs": [],
   "source": [
    "for i, (iso, z_i) in enumerate(zip(isotopes, z.flatten())):\n",
    "    print(f\"{iso}: {z_i} = ({Z[:,:,i].max()}) [mol/cm²]\")"
   ]
  },
  {
   "cell_type": "markdown",
   "id": "c2e0bacc",
   "metadata": {},
   "source": [
    "Preparation for the Reconstruction\n",
    "----------------------------------\n",
    "\n",
    "For the reconstruction we need to define the regions `Ω_z` and `Ω_0` that correspond to the so\n",
    "called uniformly dense region and the open beam region, respectively.\n",
    "\n",
    "For this we use the `ProjectionRegion` class. We initialize each with a mask (boolean array) that\n",
    "has shape `projection_shape + (1,)`, indicating which pixels belong to these regions.\n",
    "\n",
    "In this example we use the ground truth `Z` to find these regions as\n",
    " - the overlap of all discs: Ω_z\n",
    " - the complement of the union of all discs: Ω_0.\n",
    "\n",
    "(In the general case when the ground truth is not known, the user will have to find a way to define\n",
    "these regions such as through prior knowledge about where to adequately find such regions.)"
   ]
  },
  {
   "cell_type": "code",
   "execution_count": null,
   "id": "3a4863dc",
   "metadata": {
    "collapsed": false
   },
   "outputs": [],
   "source": [
    "mask_z = np.prod(Z, axis=2, keepdims=True) > 0\n",
    "Ω_z = reconstruct.ProjectionRegion(mask_z)\n",
    "\n",
    "mask_0 = np.sum(Z, axis=2, keepdims=True) == 0\n",
    "Ω_0 = reconstruct.ProjectionRegion(mask_0)\n",
    "\n",
    "print(f\"mask_z.shape = mask_0.shape = {mask_0.shape}\")"
   ]
  },
  {
   "cell_type": "markdown",
   "id": "f05e5ef5",
   "metadata": {},
   "source": [
    "We can illustrate these regions using the `ProjectionRegion.plot_contour` and the\n",
    "`ProjectionRegion.imshow` functions below."
   ]
  },
  {
   "cell_type": "code",
   "execution_count": null,
   "id": "c4eb372b",
   "metadata": {
    "collapsed": false
   },
   "outputs": [],
   "source": [
    "fig, ax = plt.subplots(1, 3, figsize=[12, 4])\n",
    "ax = np.atleast_1d(ax)\n",
    "\n",
    "ax[0].imshow(np.sum(Y_s, axis=-1) / np.sum(Y_o, axis=-1), vmin=0)\n",
    "ax[0].set_title(\"1Y_s / 1Y_o (TOF integrated measurement ratio)\")\n",
    "Ω_z.plot_contours(ax[0], color=\"red\")\n",
    "Ω_0.plot_contours(ax[0], color=\"blue\")\n",
    "\n",
    "Ω_z.imshow(ax[1], title=\"Ω_z\")\n",
    "Ω_0.imshow(ax[2], title=\"Ω_0\")\n",
    "\n",
    "plt.show()"
   ]
  },
  {
   "cell_type": "markdown",
   "id": "6dff39c4",
   "metadata": {},
   "source": [
    "Next we need to define the resolution operator, `R`. We use the same `kernels` used for the\n",
    "generation of the data to initialize the `ResolutioOperator` object."
   ]
  },
  {
   "cell_type": "code",
   "execution_count": null,
   "id": "67a80419",
   "metadata": {
    "collapsed": false
   },
   "outputs": [],
   "source": [
    "R = resolution.ResolutionOperator(Y_s.shape, t_A, kernels=kernels)\n",
    "print(R)"
   ]
  },
  {
   "cell_type": "markdown",
   "id": "1b19450f",
   "metadata": {},
   "source": [
    "Since the resolution operator inputs wider spectra than it outputs, there is an additional vector\n",
    "of time-of-flights (TOF), `t_F`, with size `N_F`, associated with the input times. The `t_F` array\n",
    "is calibrated such that approximately R(t_A) = t_F."
   ]
  },
  {
   "cell_type": "code",
   "execution_count": null,
   "id": "a0ed2a38",
   "metadata": {
    "collapsed": false
   },
   "outputs": [],
   "source": [
    "t_F = R.t_F\n",
    "N_F = t_F.size\n",
    "\n",
    "print(f\"{N_A = }\")\n",
    "print(f\"t_A = [{t_A[0]:.2f}, {t_A[1]:.2f}, ..., {t_A[-2]:.2f}, {t_A[-1]:.2f}] [μs]\")\n",
    "print(f\"{N_F = }\")\n",
    "print(f\"t_F = [{t_F[0]:.2f}, {t_F[1]:.2f}, ..., {t_F[-2]:.2f}, {t_F[-1]:.2f}] [μs]\")"
   ]
  },
  {
   "cell_type": "markdown",
   "id": "7c1fde14",
   "metadata": {},
   "source": [
    "The cross section dictionary uses `t_F` as calibration for the neutron energies. Below we define\n",
    "the `XSDict` object."
   ]
  },
  {
   "cell_type": "code",
   "execution_count": null,
   "id": "03d3610a",
   "metadata": {
    "collapsed": false
   },
   "outputs": [],
   "source": [
    "D = cross_section.XSDict(isotopes, t_F, flight_path_length)\n",
    "print(D)"
   ]
  },
  {
   "cell_type": "markdown",
   "id": "d7bcb927",
   "metadata": {},
   "source": [
    "Below we plot the average measurements in the `Ω_z` and `Ω_0` regions compared to the cross section\n",
    "dictionary. We use the `ProjectionRegion.averge` function to compute these average spectra."
   ]
  },
  {
   "cell_type": "code",
   "execution_count": null,
   "id": "5d670fae",
   "metadata": {
    "collapsed": false
   },
   "outputs": [],
   "source": [
    "fig, ax = plt.subplots(2, 1, figsize=[12, 8], sharex=True)\n",
    "ax = np.atleast_1d(ax)\n",
    "ax[0].plot(t_A, Ω_z.average(Y_s).flatten(), label=\"Ω_z.average(Y_s)\", alpha=0.75)\n",
    "ax[0].plot(t_A, Ω_0.average(Y_s).flatten(), label=\"Ω_0.average(Y_s)\", alpha=0.75)\n",
    "D.plot(ax[1])\n",
    "ax[0].legend(prop={\"size\": 8})\n",
    "fig.suptitle(\"Average spectra in Ω_z and Ω_0\")\n",
    "plt.show()"
   ]
  },
  {
   "cell_type": "markdown",
   "id": "74b1da79",
   "metadata": {},
   "source": [
    "Reconstruction of the Nuisance Parameters\n",
    "-----------------------------------------\n",
    "The nuisance parameters are computed first before the densities can be computed. They parametrize\n",
    "such quantities associated the the neutron flux and background at every pixel (Φ, B) and global\n",
    "scalers such as the overall relative exposure and sample induced background factors (α_1, α_2). We\n",
    "do not expect the general user to need to understand these parameters intricately and thus the\n",
    "handling of these parameters is encapsulated inside the `ParameterEstimator` object."
   ]
  },
  {
   "cell_type": "markdown",
   "id": "c14ee65c",
   "metadata": {},
   "source": [
    "Below we define a `ParameterEstimator` object. For the background we use the same number `N_b` of\n",
    "basis functions as used for the simulation. This estimates the nuisance parameters\n",
    "(z, α_1, α_1, θ) using the relatively fast `BFGS` algorithm."
   ]
  },
  {
   "cell_type": "code",
   "execution_count": null,
   "id": "4a1bf966",
   "metadata": {
    "collapsed": false
   },
   "outputs": [],
   "source": [
    "par = reconstruct.ParameterEstimator(Y_o, Y_s, R, D, Ω_z, Ω_0=Ω_0, N_b=N_b)"
   ]
  },
  {
   "cell_type": "markdown",
   "id": "fadd51b2",
   "metadata": {},
   "source": [
    "`Advanced users:` The parameters are available through the `ParameterEstimator.get` function. They\n",
    "can manually be modified using the `ParameterEstimator.set` function. We also provide similar\n",
    "`save` and `load` functions to write/read them to file."
   ]
  },
  {
   "cell_type": "code",
   "execution_count": null,
   "id": "6d5bbe06",
   "metadata": {
    "collapsed": false
   },
   "outputs": [],
   "source": [
    "d = par.get()\n",
    "print(d)\n",
    "\n",
    "\n",
    "par.set(**d)\n",
    "par.set(z=d[\"z\"], α_1=d[\"α_1\"], α_2=d[\"α_2\"], θ=d[\"θ\"])  # same as line above\n",
    "\n",
    "# par.save(\"par.npy\")\n",
    "# d = par.load(\"par.npy\")"
   ]
  },
  {
   "cell_type": "markdown",
   "id": "61293720",
   "metadata": {},
   "source": [
    "Once the `ParameterEstimator` object has been constructed we can plot the `Ω_z` and `Ω_0` regions\n",
    "much more easily than above using the `ParameterEstimator.plot_regions` function."
   ]
  },
  {
   "cell_type": "code",
   "execution_count": null,
   "id": "4d07f08a",
   "metadata": {
    "collapsed": false
   },
   "outputs": [],
   "source": [
    "par.plot_regions()\n",
    "plt.show()"
   ]
  },
  {
   "cell_type": "markdown",
   "id": "3a7b3250",
   "metadata": {},
   "source": [
    "The `ParameterEstimator.plot_results` function allows to display the resulting spectra from the\n",
    "estimation and verify good fitting of the signals."
   ]
  },
  {
   "cell_type": "code",
   "execution_count": null,
   "id": "94811e3e",
   "metadata": {
    "collapsed": false
   },
   "outputs": [],
   "source": [
    "par.plot_results()\n",
    "plt.show()"
   ]
  },
  {
   "cell_type": "markdown",
   "id": "59b274a8",
   "metadata": {},
   "source": [
    "We also provide the APGM optimization routine used in our paper, however we do not recommend it\n",
    "since tends to be signicicantly slower."
   ]
  },
  {
   "cell_type": "code",
   "execution_count": null,
   "id": "7980b3fa",
   "metadata": {
    "collapsed": false
   },
   "outputs": [],
   "source": [
    "# par.apgm_solve(iterations=100)\n",
    "# fig, ax = par.apgm_plot_convergence(plot_residual=True, ground_truth=ground_truth_params)\n",
    "# plt.show()"
   ]
  },
  {
   "cell_type": "markdown",
   "id": "30136953",
   "metadata": {},
   "source": [
    "Reconstruction of the Areal Densities\n",
    "-------------------------------------\n",
    "Now that the nuisance parameters have been computed and stored in the `ParameterEstimator` object,\n",
    "we can carry on with the main task, i.e. with the areal density reconstruction."
   ]
  },
  {
   "cell_type": "markdown",
   "id": "8e17849a",
   "metadata": {},
   "source": [
    "We define a `DensityEstimator` object. Note that if the optional arguments `D` and `R` are left\n",
    "empty, the `D` and `R` operators from the `par` `Parameters` object will be used for the\n",
    "reconstruction.\n",
    "\n",
    "(If different `D` and `R` operators are desired, they need to be passed to the `DensityEstimator`\n",
    "constructor.)"
   ]
  },
  {
   "cell_type": "code",
   "execution_count": null,
   "id": "fa5dfc7e",
   "metadata": {
    "collapsed": false
   },
   "outputs": [],
   "source": [
    "den = reconstruct.DensityEstimator(Y_s, par, non_negative_Z=False, dispperiod=50)"
   ]
  },
  {
   "cell_type": "markdown",
   "id": "80e39b99",
   "metadata": {},
   "source": [
    "We reonstruct the areal densities using the `DensityEstimator.solve` function which returns the\n",
    "areal density estimates `Z_hat`."
   ]
  },
  {
   "cell_type": "code",
   "execution_count": null,
   "id": "f012fbe7",
   "metadata": {
    "collapsed": false
   },
   "outputs": [],
   "source": [
    "Z_hat = den.solve(iterations=200)"
   ]
  },
  {
   "cell_type": "markdown",
   "id": "0b764c66",
   "metadata": {},
   "source": [
    "We can plot the convergence of the objective using the `DensityEstimator.plot_convergence`\n",
    "function. The ground truth argument is optional and will additionaly display the objective to the\n",
    "ground truth."
   ]
  },
  {
   "cell_type": "code",
   "execution_count": null,
   "id": "83f32fef",
   "metadata": {
    "collapsed": false
   },
   "outputs": [],
   "source": [
    "den.plot_convergence(ground_truth=Z)\n",
    "plt.show()"
   ]
  },
  {
   "cell_type": "markdown",
   "id": "3a75c4ed",
   "metadata": {},
   "source": [
    "We use this plotting function below to plot the resulting areal density estimates and compare them\n",
    "to the ground truth (`Z`)"
   ]
  },
  {
   "cell_type": "code",
   "execution_count": null,
   "id": "6b0588b8",
   "metadata": {
    "collapsed": false
   },
   "outputs": [],
   "source": [
    "def plot_compare(Z, str_Z, Z_hat, str_Z_hat):\n",
    "    r\"\"\"Generate two plots comparing ground truth with reconstruction.\"\"\"\n",
    "    fig, ax = plot_densities(Z, isotopes, vmaxs=z * 1.5)\n",
    "    fig.suptitle(f\"{str_Z} [mol/cm²]\")\n",
    "\n",
    "    fig, ax = plot_densities(Z_hat, isotopes, vmaxs=z * 1.5)\n",
    "    fig.suptitle(f\"{str_Z_hat} [mol/cm²]\")\n",
    "\n",
    "\n",
    "plot_compare(Z, \"Ground Truth\", Z_hat, \"Reconstruction\")\n",
    "plt.show()"
   ]
  },
  {
   "cell_type": "markdown",
   "id": "a9e02a0e",
   "metadata": {},
   "source": [
    "Cropped or Binned Measurements\n",
    "------------------------------\n",
    "\n",
    "In practice, it is not always desired to reconstruct the full field of view or at full resolution:\n",
    "Perhaps we require the full field of view to estimate the nuisance parameters, but\n",
    "we only want to reconstruct a small cropped region.\n",
    "For this reason we can provide the `projection_transform` argument in the `DensityEstimator`\n",
    "constructor.\n",
    "\n",
    "The `projection_transform` is the desired operation that is applied to the measurements and used\n",
    "internally to handle the modification of the background and flux estimates."
   ]
  },
  {
   "cell_type": "markdown",
   "id": "36950de3",
   "metadata": {},
   "source": [
    "First we show an example of binned data using the below defined `binning_2x2` function."
   ]
  },
  {
   "cell_type": "code",
   "execution_count": null,
   "id": "59589b03",
   "metadata": {
    "collapsed": false
   },
   "outputs": [],
   "source": [
    "def binning_2x2(Y):\n",
    "    r\"\"\"Bin an array of shape (N, M, ...) with the result being (N//2, M//2, ...)\"\"\"\n",
    "    N0 = Y.shape[0] // 2\n",
    "    N1 = Y.shape[1] // 2\n",
    "    Y = Y[0::2][:N0] + Y[1::2][:N0]\n",
    "    Y = Y[:, 0::2][:, :N1] + Y[:, 1::2][:, :N1]\n",
    "    return Y"
   ]
  },
  {
   "cell_type": "markdown",
   "id": "bfad23e8",
   "metadata": {},
   "source": [
    "We define the `DensityEstimator` but pass the `binning_2x2` as the `projection_transform` argument\n",
    "and use `solve` as usual. Note that the resulting detector shape is half the size in each\n",
    "direction."
   ]
  },
  {
   "cell_type": "code",
   "execution_count": null,
   "id": "d75c823f",
   "metadata": {
    "collapsed": false
   },
   "outputs": [],
   "source": [
    "den = reconstruct.DensityEstimator(\n",
    "    Y_s, par, projection_transform=binning_2x2, non_negative_Z=False, dispperiod=50\n",
    ")\n",
    "den.solve(iterations=200)\n",
    "\n",
    "Z_binned = binning_2x2(Z) / (2 * 2)  # over 4 to keep ground truth scale the same.\n",
    "Z_hat_binned = den.Z\n",
    "\n",
    "print(f\"{Z.shape = }\")\n",
    "print(f\"{Z_binned.shape = }\")"
   ]
  },
  {
   "cell_type": "markdown",
   "id": "ca9d3448",
   "metadata": {},
   "source": [
    "We plot the results below."
   ]
  },
  {
   "cell_type": "code",
   "execution_count": null,
   "id": "7ec44e88",
   "metadata": {
    "collapsed": false
   },
   "outputs": [],
   "source": [
    "plot_compare(\n",
    "    Z_binned, \"Binned Ground Truth\", Z_hat_binned, \"Reconstruction from Binned Measurement\"\n",
    ")\n",
    "plt.show()"
   ]
  },
  {
   "cell_type": "markdown",
   "id": "61444302",
   "metadata": {},
   "source": [
    "Second we show an example of cropping data using the below defined `crop` function."
   ]
  },
  {
   "cell_type": "code",
   "execution_count": null,
   "id": "d1b55986",
   "metadata": {
    "collapsed": false
   },
   "outputs": [],
   "source": [
    "def crop(Y):\n",
    "    r\"\"\"Create center crop from 1/5 to 4/5 of the FOV.\"\"\"\n",
    "    N0 = Y.shape[0] // 5\n",
    "    N1 = Y.shape[1] // 5\n",
    "    Y = Y[N0 : 4 * N0, N1 : 4 * N1]\n",
    "    return Y\n",
    "\n",
    "\n",
    "den = reconstruct.DensityEstimator(\n",
    "    Y_s, par, projection_transform=crop, non_negative_Z=False, dispperiod=50\n",
    ")\n",
    "den.solve(iterations=200)\n",
    "\n",
    "Z_crop = crop(Z)\n",
    "Z_hat_crop = den.Z\n",
    "\n",
    "print(f\"{Z_crop.shape = }\")\n",
    "print(f\"{Z.shape = }\")\n",
    "\n",
    "\n",
    "plot_compare(Z_crop, \"Cropped Ground Truth\", Z_hat_crop, \"Reconstruction from Cropped Measurement\")\n",
    "plt.show()"
   ]
  },
  {
   "cell_type": "markdown",
   "id": "773739f6",
   "metadata": {},
   "source": [
    "If multiple transformations are required, those can easily be composed such as below."
   ]
  },
  {
   "cell_type": "code",
   "execution_count": null,
   "id": "d7120095",
   "metadata": {
    "collapsed": false
   },
   "outputs": [],
   "source": [
    "projection_transform = lambda Y: crop(binning_2x2(Y))"
   ]
  }
 ],
 "metadata": {},
 "nbformat": 4,
 "nbformat_minor": 5
}
